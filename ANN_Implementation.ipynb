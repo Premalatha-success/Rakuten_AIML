{
 "cells": [
  {
   "cell_type": "markdown",
   "metadata": {
    "id": "aNGeq3JZXkgY"
   },
   "source": [
    "# Part 1- Data Preprocessing"
   ]
  },
  {
   "cell_type": "code",
   "execution_count": 27,
   "metadata": {
    "id": "Hx3hmR24Yg29"
   },
   "outputs": [],
   "source": [
    "import numpy as np\n",
    "import matplotlib.pyplot as plt\n",
    "import pandas as pd"
   ]
  },
  {
   "cell_type": "code",
   "execution_count": 28,
   "metadata": {
    "id": "0cxaHC7uYldT"
   },
   "outputs": [],
   "source": [
    "dataset = pd.read_csv('Churn_Modelling.csv')\n",
    "X = dataset.iloc[:,3:13]\n",
    "y = dataset.iloc[:, 13]"
   ]
  },
  {
   "cell_type": "code",
   "execution_count": 8,
   "metadata": {
    "colab": {
     "base_uri": "https://localhost:8080/",
     "height": 270
    },
    "id": "6ShqHrF1YwN0",
    "outputId": "173d2f7b-d44c-42e7-99ab-14414fd98883"
   },
   "outputs": [
    {
     "data": {
      "text/html": [
       "<div>\n",
       "<style scoped>\n",
       "    .dataframe tbody tr th:only-of-type {\n",
       "        vertical-align: middle;\n",
       "    }\n",
       "\n",
       "    .dataframe tbody tr th {\n",
       "        vertical-align: top;\n",
       "    }\n",
       "\n",
       "    .dataframe thead th {\n",
       "        text-align: right;\n",
       "    }\n",
       "</style>\n",
       "<table border=\"1\" class=\"dataframe\">\n",
       "  <thead>\n",
       "    <tr style=\"text-align: right;\">\n",
       "      <th></th>\n",
       "      <th>CreditScore</th>\n",
       "      <th>Geography</th>\n",
       "      <th>Gender</th>\n",
       "      <th>Age</th>\n",
       "      <th>Tenure</th>\n",
       "      <th>Balance</th>\n",
       "      <th>NumOfProducts</th>\n",
       "      <th>HasCrCard</th>\n",
       "      <th>IsActiveMember</th>\n",
       "      <th>EstimatedSalary</th>\n",
       "    </tr>\n",
       "  </thead>\n",
       "  <tbody>\n",
       "    <tr>\n",
       "      <th>0</th>\n",
       "      <td>619</td>\n",
       "      <td>France</td>\n",
       "      <td>Female</td>\n",
       "      <td>42</td>\n",
       "      <td>2</td>\n",
       "      <td>0.00</td>\n",
       "      <td>1</td>\n",
       "      <td>1</td>\n",
       "      <td>1</td>\n",
       "      <td>101348.88</td>\n",
       "    </tr>\n",
       "    <tr>\n",
       "      <th>1</th>\n",
       "      <td>608</td>\n",
       "      <td>Spain</td>\n",
       "      <td>Female</td>\n",
       "      <td>41</td>\n",
       "      <td>1</td>\n",
       "      <td>83807.86</td>\n",
       "      <td>1</td>\n",
       "      <td>0</td>\n",
       "      <td>1</td>\n",
       "      <td>112542.58</td>\n",
       "    </tr>\n",
       "    <tr>\n",
       "      <th>2</th>\n",
       "      <td>502</td>\n",
       "      <td>France</td>\n",
       "      <td>Female</td>\n",
       "      <td>42</td>\n",
       "      <td>8</td>\n",
       "      <td>159660.80</td>\n",
       "      <td>3</td>\n",
       "      <td>1</td>\n",
       "      <td>0</td>\n",
       "      <td>113931.57</td>\n",
       "    </tr>\n",
       "    <tr>\n",
       "      <th>3</th>\n",
       "      <td>699</td>\n",
       "      <td>France</td>\n",
       "      <td>Female</td>\n",
       "      <td>39</td>\n",
       "      <td>1</td>\n",
       "      <td>0.00</td>\n",
       "      <td>2</td>\n",
       "      <td>0</td>\n",
       "      <td>0</td>\n",
       "      <td>93826.63</td>\n",
       "    </tr>\n",
       "    <tr>\n",
       "      <th>4</th>\n",
       "      <td>850</td>\n",
       "      <td>Spain</td>\n",
       "      <td>Female</td>\n",
       "      <td>43</td>\n",
       "      <td>2</td>\n",
       "      <td>125510.82</td>\n",
       "      <td>1</td>\n",
       "      <td>1</td>\n",
       "      <td>1</td>\n",
       "      <td>79084.10</td>\n",
       "    </tr>\n",
       "  </tbody>\n",
       "</table>\n",
       "</div>"
      ],
      "text/plain": [
       "   CreditScore Geography  Gender  Age  Tenure    Balance  NumOfProducts  \\\n",
       "0          619    France  Female   42       2       0.00              1   \n",
       "1          608     Spain  Female   41       1   83807.86              1   \n",
       "2          502    France  Female   42       8  159660.80              3   \n",
       "3          699    France  Female   39       1       0.00              2   \n",
       "4          850     Spain  Female   43       2  125510.82              1   \n",
       "\n",
       "   HasCrCard  IsActiveMember  EstimatedSalary  \n",
       "0          1               1        101348.88  \n",
       "1          0               1        112542.58  \n",
       "2          1               0        113931.57  \n",
       "3          0               0         93826.63  \n",
       "4          1               1         79084.10  "
      ]
     },
     "execution_count": 8,
     "metadata": {},
     "output_type": "execute_result"
    }
   ],
   "source": [
    "X.head()"
   ]
  },
  {
   "cell_type": "code",
   "execution_count": 29,
   "metadata": {},
   "outputs": [
    {
     "data": {
      "text/plain": [
       "France     5014\n",
       "Germany    2509\n",
       "Spain      2477\n",
       "Name: Geography, dtype: int64"
      ]
     },
     "execution_count": 29,
     "metadata": {},
     "output_type": "execute_result"
    }
   ],
   "source": [
    "dataset[\"Geography\"].value_counts()"
   ]
  },
  {
   "cell_type": "code",
   "execution_count": 30,
   "metadata": {},
   "outputs": [
    {
     "data": {
      "text/plain": [
       "Male      5457\n",
       "Female    4543\n",
       "Name: Gender, dtype: int64"
      ]
     },
     "execution_count": 30,
     "metadata": {},
     "output_type": "execute_result"
    }
   ],
   "source": [
    "dataset[\"Gender\"].value_counts()"
   ]
  },
  {
   "cell_type": "code",
   "execution_count": 9,
   "metadata": {
    "id": "MC-amz5TY4kr"
   },
   "outputs": [],
   "source": [
    "# Geography and Gender are Categorical Variables\n",
    "# Creating dummy variables\n",
    "geography = pd.get_dummies(X[\"Geography\"],drop_first=True)\n",
    "gender = pd.get_dummies(X[\"Gender\"],drop_first=True)"
   ]
  },
  {
   "cell_type": "code",
   "execution_count": 10,
   "metadata": {
    "id": "oWMsCuBJZJz9"
   },
   "outputs": [],
   "source": [
    "# Concating the dataframes\n",
    "X = pd.concat([X,geography,gender], axis=1)"
   ]
  },
  {
   "cell_type": "code",
   "execution_count": 11,
   "metadata": {
    "id": "0p9aPVZ0ZQq4"
   },
   "outputs": [],
   "source": [
    "# Dropping Unnecessary columns that have already been dummied\n",
    "X = X.drop([\"Geography\",\"Gender\"],axis=1)"
   ]
  },
  {
   "cell_type": "code",
   "execution_count": 12,
   "metadata": {
    "id": "qFsQJQ8EZZFn"
   },
   "outputs": [],
   "source": [
    "# Splitting the dataset into Training and Testing Set\n",
    "from sklearn.model_selection import train_test_split\n",
    "X_train,X_test,y_train,y_test = train_test_split(X,y,test_size =0.2, random_state =0)\n"
   ]
  },
  {
   "cell_type": "code",
   "execution_count": 13,
   "metadata": {
    "id": "UxykHQ2wZsy8"
   },
   "outputs": [],
   "source": [
    "# Feature Scaling\n",
    "from sklearn.preprocessing import StandardScaler\n",
    "sc = StandardScaler()\n",
    "X_train = sc.fit_transform(X_train)\n",
    "X_test = sc.transform(X_test)"
   ]
  },
  {
   "cell_type": "markdown",
   "metadata": {
    "id": "eiSzoT3oZ-06"
   },
   "source": [
    "# Part 2- Making the ANN"
   ]
  },
  {
   "cell_type": "code",
   "execution_count": 14,
   "metadata": {
    "id": "wq0yl-1BaDJa"
   },
   "outputs": [],
   "source": [
    "import keras\n",
    "from keras.models import Sequential\n",
    "from keras.layers import Dense\n",
    "from keras.layers import LeakyReLU,PReLU,ELU\n",
    "from keras.layers import Dropout"
   ]
  },
  {
   "cell_type": "code",
   "execution_count": 15,
   "metadata": {
    "id": "V_rZnso-aZdl"
   },
   "outputs": [],
   "source": [
    "# Initialize the ANN\n",
    "classifier = Sequential()"
   ]
  },
  {
   "cell_type": "code",
   "execution_count": 16,
   "metadata": {
    "id": "OFl6bLm0au_5"
   },
   "outputs": [],
   "source": [
    "# Adding the input layer and the first hidden layer\n",
    "classifier.add(Dense(units = 6, kernel_initializer = 'he_uniform',activation='relu',input_dim = 11))\n",
    "# Adding a Dropout Layer\n",
    "classifier.add(Dropout(0.4))"
   ]
  },
  {
   "cell_type": "code",
   "execution_count": 17,
   "metadata": {
    "id": "8OvsEhhxbjKh"
   },
   "outputs": [],
   "source": [
    "# Adding the second input layer\n",
    "classifier.add(Dense(units =6, kernel_initializer = 'he_uniform', activation = 'relu'))\n",
    "# Adding a Dropout Layer\n",
    "classifier.add(Dropout(0.2))"
   ]
  },
  {
   "cell_type": "code",
   "execution_count": 18,
   "metadata": {
    "id": "WvpcHidPc1AE"
   },
   "outputs": [],
   "source": [
    "# Adding the Output Layer\n",
    "classifier.add(Dense(units =1, kernel_initializer='glorot_uniform', activation ='sigmoid'))"
   ]
  },
  {
   "cell_type": "code",
   "execution_count": 19,
   "metadata": {
    "colab": {
     "base_uri": "https://localhost:8080/"
    },
    "id": "tfYFJLjKdD-y",
    "outputId": "a3b0a1b3-9cea-41c7-c4e6-de94658281fd"
   },
   "outputs": [
    {
     "name": "stdout",
     "output_type": "stream",
     "text": [
      "Model: \"sequential\"\n",
      "_________________________________________________________________\n",
      " Layer (type)                Output Shape              Param #   \n",
      "=================================================================\n",
      " dense (Dense)               (None, 6)                 72        \n",
      "                                                                 \n",
      " dropout (Dropout)           (None, 6)                 0         \n",
      "                                                                 \n",
      " dense_1 (Dense)             (None, 6)                 42        \n",
      "                                                                 \n",
      " dropout_1 (Dropout)         (None, 6)                 0         \n",
      "                                                                 \n",
      " dense_2 (Dense)             (None, 1)                 7         \n",
      "                                                                 \n",
      "=================================================================\n",
      "Total params: 121\n",
      "Trainable params: 121\n",
      "Non-trainable params: 0\n",
      "_________________________________________________________________\n"
     ]
    }
   ],
   "source": [
    "# Summary of the Classifier\n",
    "classifier.summary()"
   ]
  },
  {
   "cell_type": "code",
   "execution_count": 20,
   "metadata": {
    "id": "Ln9WmQPbdQ2f"
   },
   "outputs": [],
   "source": [
    "# Compiling the ANN Model\n",
    "classifier.compile(optimizer = 'Adamax', loss = 'binary_crossentropy', metrics = ['accuracy'])"
   ]
  },
  {
   "cell_type": "code",
   "execution_count": 21,
   "metadata": {
    "colab": {
     "base_uri": "https://localhost:8080/"
    },
    "id": "ewfrQXHUdsX-",
    "outputId": "ddad1f89-a3aa-47e3-dccb-512b7fcaacf4"
   },
   "outputs": [
    {
     "name": "stdout",
     "output_type": "stream",
     "text": [
      "Epoch 1/100\n",
      "536/536 [==============================] - 7s 8ms/step - loss: 0.7617 - accuracy: 0.6533 - val_loss: 0.6106 - val_accuracy: 0.7073\n",
      "Epoch 2/100\n",
      "536/536 [==============================] - 3s 6ms/step - loss: 0.6495 - accuracy: 0.7171 - val_loss: 0.5585 - val_accuracy: 0.7649\n",
      "Epoch 3/100\n",
      "536/536 [==============================] - 3s 6ms/step - loss: 0.5827 - accuracy: 0.7503 - val_loss: 0.5338 - val_accuracy: 0.7891\n",
      "Epoch 4/100\n",
      "536/536 [==============================] - 3s 6ms/step - loss: 0.5523 - accuracy: 0.7768 - val_loss: 0.5196 - val_accuracy: 0.7955\n",
      "Epoch 5/100\n",
      "536/536 [==============================] - 3s 6ms/step - loss: 0.5339 - accuracy: 0.7850 - val_loss: 0.5106 - val_accuracy: 0.7952\n",
      "Epoch 6/100\n",
      "536/536 [==============================] - 3s 6ms/step - loss: 0.5237 - accuracy: 0.7899 - val_loss: 0.5045 - val_accuracy: 0.7955\n",
      "Epoch 7/100\n",
      "536/536 [==============================] - 3s 6ms/step - loss: 0.5108 - accuracy: 0.7929 - val_loss: 0.5004 - val_accuracy: 0.7955\n",
      "Epoch 8/100\n",
      "536/536 [==============================] - 3s 6ms/step - loss: 0.5038 - accuracy: 0.7925 - val_loss: 0.4968 - val_accuracy: 0.7955\n",
      "Epoch 9/100\n",
      "536/536 [==============================] - 3s 6ms/step - loss: 0.5008 - accuracy: 0.7932 - val_loss: 0.4935 - val_accuracy: 0.7955\n",
      "Epoch 10/100\n",
      "536/536 [==============================] - 3s 6ms/step - loss: 0.5005 - accuracy: 0.7955 - val_loss: 0.4913 - val_accuracy: 0.7955\n",
      "Epoch 11/100\n",
      "536/536 [==============================] - 3s 6ms/step - loss: 0.4952 - accuracy: 0.7953 - val_loss: 0.4890 - val_accuracy: 0.7955\n",
      "Epoch 12/100\n",
      "536/536 [==============================] - 3s 6ms/step - loss: 0.4951 - accuracy: 0.7957 - val_loss: 0.4871 - val_accuracy: 0.7955\n",
      "Epoch 13/100\n",
      "536/536 [==============================] - 3s 6ms/step - loss: 0.4930 - accuracy: 0.7981 - val_loss: 0.4848 - val_accuracy: 0.7955\n",
      "Epoch 14/100\n",
      "536/536 [==============================] - 3s 6ms/step - loss: 0.4903 - accuracy: 0.7944 - val_loss: 0.4824 - val_accuracy: 0.7959\n",
      "Epoch 15/100\n",
      "536/536 [==============================] - 3s 6ms/step - loss: 0.4844 - accuracy: 0.7972 - val_loss: 0.4802 - val_accuracy: 0.7959\n",
      "Epoch 16/100\n",
      "536/536 [==============================] - 3s 6ms/step - loss: 0.4823 - accuracy: 0.7970 - val_loss: 0.4782 - val_accuracy: 0.7959\n",
      "Epoch 17/100\n",
      "536/536 [==============================] - 3s 6ms/step - loss: 0.4789 - accuracy: 0.7957 - val_loss: 0.4760 - val_accuracy: 0.7959\n",
      "Epoch 18/100\n",
      "536/536 [==============================] - 3s 6ms/step - loss: 0.4774 - accuracy: 0.7985 - val_loss: 0.4735 - val_accuracy: 0.7970\n",
      "Epoch 19/100\n",
      "536/536 [==============================] - 3s 6ms/step - loss: 0.4753 - accuracy: 0.7996 - val_loss: 0.4712 - val_accuracy: 0.7986\n",
      "Epoch 20/100\n",
      "536/536 [==============================] - 3s 7ms/step - loss: 0.4764 - accuracy: 0.7987 - val_loss: 0.4690 - val_accuracy: 0.7986\n",
      "Epoch 21/100\n",
      "536/536 [==============================] - 3s 6ms/step - loss: 0.4758 - accuracy: 0.7979 - val_loss: 0.4671 - val_accuracy: 0.7986\n",
      "Epoch 22/100\n",
      "536/536 [==============================] - 3s 6ms/step - loss: 0.4743 - accuracy: 0.7987 - val_loss: 0.4652 - val_accuracy: 0.7993\n",
      "Epoch 23/100\n",
      "536/536 [==============================] - 3s 6ms/step - loss: 0.4673 - accuracy: 0.8033 - val_loss: 0.4622 - val_accuracy: 0.7982\n",
      "Epoch 24/100\n",
      "536/536 [==============================] - 3s 6ms/step - loss: 0.4686 - accuracy: 0.7990 - val_loss: 0.4604 - val_accuracy: 0.7978\n",
      "Epoch 25/100\n",
      "536/536 [==============================] - 3s 6ms/step - loss: 0.4623 - accuracy: 0.8048 - val_loss: 0.4585 - val_accuracy: 0.8001\n",
      "Epoch 26/100\n",
      "536/536 [==============================] - 3s 6ms/step - loss: 0.4642 - accuracy: 0.8016 - val_loss: 0.4570 - val_accuracy: 0.7993\n",
      "Epoch 27/100\n",
      "536/536 [==============================] - 3s 6ms/step - loss: 0.4622 - accuracy: 0.8018 - val_loss: 0.4556 - val_accuracy: 0.8008\n",
      "Epoch 28/100\n",
      "536/536 [==============================] - 3s 6ms/step - loss: 0.4598 - accuracy: 0.8028 - val_loss: 0.4542 - val_accuracy: 0.8012\n",
      "Epoch 29/100\n",
      "536/536 [==============================] - 3s 6ms/step - loss: 0.4633 - accuracy: 0.8029 - val_loss: 0.4533 - val_accuracy: 0.8016\n",
      "Epoch 30/100\n",
      "536/536 [==============================] - 3s 6ms/step - loss: 0.4536 - accuracy: 0.8057 - val_loss: 0.4516 - val_accuracy: 0.8031\n",
      "Epoch 31/100\n",
      "536/536 [==============================] - 3s 6ms/step - loss: 0.4538 - accuracy: 0.8035 - val_loss: 0.4505 - val_accuracy: 0.8054\n",
      "Epoch 32/100\n",
      "536/536 [==============================] - 3s 6ms/step - loss: 0.4507 - accuracy: 0.8078 - val_loss: 0.4492 - val_accuracy: 0.8054\n",
      "Epoch 33/100\n",
      "536/536 [==============================] - 3s 6ms/step - loss: 0.4528 - accuracy: 0.8063 - val_loss: 0.4483 - val_accuracy: 0.8058\n",
      "Epoch 34/100\n",
      "536/536 [==============================] - 3s 6ms/step - loss: 0.4536 - accuracy: 0.8048 - val_loss: 0.4471 - val_accuracy: 0.8076\n",
      "Epoch 35/100\n",
      "536/536 [==============================] - 3s 6ms/step - loss: 0.4553 - accuracy: 0.8056 - val_loss: 0.4468 - val_accuracy: 0.8073\n",
      "Epoch 36/100\n",
      "536/536 [==============================] - 3s 6ms/step - loss: 0.4536 - accuracy: 0.8048 - val_loss: 0.4458 - val_accuracy: 0.8073\n",
      "Epoch 37/100\n",
      "536/536 [==============================] - 3s 6ms/step - loss: 0.4548 - accuracy: 0.8052 - val_loss: 0.4448 - val_accuracy: 0.8088\n",
      "Epoch 38/100\n",
      "536/536 [==============================] - 3s 6ms/step - loss: 0.4508 - accuracy: 0.8074 - val_loss: 0.4443 - val_accuracy: 0.8084\n",
      "Epoch 39/100\n",
      "536/536 [==============================] - 3s 6ms/step - loss: 0.4497 - accuracy: 0.8061 - val_loss: 0.4431 - val_accuracy: 0.8095\n",
      "Epoch 40/100\n",
      "536/536 [==============================] - 3s 6ms/step - loss: 0.4494 - accuracy: 0.8097 - val_loss: 0.4422 - val_accuracy: 0.8107\n",
      "Epoch 41/100\n",
      "536/536 [==============================] - 3s 6ms/step - loss: 0.4464 - accuracy: 0.8097 - val_loss: 0.4414 - val_accuracy: 0.8099\n",
      "Epoch 42/100\n",
      "536/536 [==============================] - 3s 6ms/step - loss: 0.4458 - accuracy: 0.8110 - val_loss: 0.4405 - val_accuracy: 0.8095\n",
      "Epoch 43/100\n",
      "536/536 [==============================] - 3s 6ms/step - loss: 0.4473 - accuracy: 0.8069 - val_loss: 0.4400 - val_accuracy: 0.8107\n",
      "Epoch 44/100\n",
      "536/536 [==============================] - 3s 6ms/step - loss: 0.4462 - accuracy: 0.8106 - val_loss: 0.4394 - val_accuracy: 0.8111\n",
      "Epoch 45/100\n",
      "536/536 [==============================] - 3s 6ms/step - loss: 0.4406 - accuracy: 0.8119 - val_loss: 0.4386 - val_accuracy: 0.8107\n",
      "Epoch 46/100\n",
      "536/536 [==============================] - 3s 6ms/step - loss: 0.4459 - accuracy: 0.8121 - val_loss: 0.4379 - val_accuracy: 0.8111\n",
      "Epoch 47/100\n",
      "536/536 [==============================] - 3s 6ms/step - loss: 0.4468 - accuracy: 0.8108 - val_loss: 0.4372 - val_accuracy: 0.8118\n",
      "Epoch 48/100\n",
      "536/536 [==============================] - 3s 6ms/step - loss: 0.4416 - accuracy: 0.8099 - val_loss: 0.4367 - val_accuracy: 0.8118\n",
      "Epoch 49/100\n",
      "536/536 [==============================] - 3s 6ms/step - loss: 0.4399 - accuracy: 0.8117 - val_loss: 0.4361 - val_accuracy: 0.8118\n",
      "Epoch 50/100\n",
      "536/536 [==============================] - 3s 6ms/step - loss: 0.4376 - accuracy: 0.8119 - val_loss: 0.4348 - val_accuracy: 0.8129\n",
      "Epoch 51/100\n",
      "536/536 [==============================] - 3s 6ms/step - loss: 0.4430 - accuracy: 0.8115 - val_loss: 0.4350 - val_accuracy: 0.8114\n",
      "Epoch 52/100\n",
      "536/536 [==============================] - 3s 6ms/step - loss: 0.4406 - accuracy: 0.8158 - val_loss: 0.4339 - val_accuracy: 0.8126\n",
      "Epoch 53/100\n",
      "536/536 [==============================] - 3s 6ms/step - loss: 0.4380 - accuracy: 0.8151 - val_loss: 0.4330 - val_accuracy: 0.8141\n",
      "Epoch 54/100\n",
      "536/536 [==============================] - 3s 6ms/step - loss: 0.4381 - accuracy: 0.8162 - val_loss: 0.4326 - val_accuracy: 0.8133\n",
      "Epoch 55/100\n",
      "536/536 [==============================] - 3s 6ms/step - loss: 0.4359 - accuracy: 0.8132 - val_loss: 0.4323 - val_accuracy: 0.8137\n",
      "Epoch 56/100\n",
      "536/536 [==============================] - 3s 6ms/step - loss: 0.4325 - accuracy: 0.8169 - val_loss: 0.4310 - val_accuracy: 0.8156\n",
      "Epoch 57/100\n",
      "536/536 [==============================] - 3s 6ms/step - loss: 0.4356 - accuracy: 0.8188 - val_loss: 0.4307 - val_accuracy: 0.8160\n"
     ]
    },
    {
     "name": "stdout",
     "output_type": "stream",
     "text": [
      "Epoch 58/100\n",
      "536/536 [==============================] - 3s 6ms/step - loss: 0.4382 - accuracy: 0.8164 - val_loss: 0.4308 - val_accuracy: 0.8152\n",
      "Epoch 59/100\n",
      "536/536 [==============================] - 3s 6ms/step - loss: 0.4382 - accuracy: 0.8164 - val_loss: 0.4297 - val_accuracy: 0.8179\n",
      "Epoch 60/100\n",
      "536/536 [==============================] - 3s 6ms/step - loss: 0.4334 - accuracy: 0.8192 - val_loss: 0.4291 - val_accuracy: 0.8183\n",
      "Epoch 61/100\n",
      "536/536 [==============================] - 3s 6ms/step - loss: 0.4354 - accuracy: 0.8162 - val_loss: 0.4294 - val_accuracy: 0.8164\n",
      "Epoch 62/100\n",
      "536/536 [==============================] - 3s 6ms/step - loss: 0.4331 - accuracy: 0.8188 - val_loss: 0.4288 - val_accuracy: 0.8171\n",
      "Epoch 63/100\n",
      "536/536 [==============================] - 3s 6ms/step - loss: 0.4361 - accuracy: 0.8173 - val_loss: 0.4289 - val_accuracy: 0.8152\n",
      "Epoch 64/100\n",
      "536/536 [==============================] - 3s 6ms/step - loss: 0.4351 - accuracy: 0.8181 - val_loss: 0.4287 - val_accuracy: 0.8160\n",
      "Epoch 65/100\n",
      "536/536 [==============================] - 3s 6ms/step - loss: 0.4345 - accuracy: 0.8196 - val_loss: 0.4274 - val_accuracy: 0.8198\n",
      "Epoch 66/100\n",
      "536/536 [==============================] - 3s 6ms/step - loss: 0.4323 - accuracy: 0.8199 - val_loss: 0.4268 - val_accuracy: 0.8205\n",
      "Epoch 67/100\n",
      "536/536 [==============================] - 3s 6ms/step - loss: 0.4361 - accuracy: 0.8162 - val_loss: 0.4273 - val_accuracy: 0.8194\n",
      "Epoch 68/100\n",
      "536/536 [==============================] - 3s 6ms/step - loss: 0.4323 - accuracy: 0.8207 - val_loss: 0.4264 - val_accuracy: 0.8198\n",
      "Epoch 69/100\n",
      "536/536 [==============================] - 3s 6ms/step - loss: 0.4316 - accuracy: 0.8171 - val_loss: 0.4263 - val_accuracy: 0.8198\n",
      "Epoch 70/100\n",
      "536/536 [==============================] - 3s 6ms/step - loss: 0.4296 - accuracy: 0.8184 - val_loss: 0.4260 - val_accuracy: 0.8190\n",
      "Epoch 71/100\n",
      "536/536 [==============================] - 3s 6ms/step - loss: 0.4307 - accuracy: 0.8201 - val_loss: 0.4261 - val_accuracy: 0.8194\n",
      "Epoch 72/100\n",
      "536/536 [==============================] - 3s 6ms/step - loss: 0.4331 - accuracy: 0.8199 - val_loss: 0.4253 - val_accuracy: 0.8201\n",
      "Epoch 73/100\n",
      "536/536 [==============================] - 3s 6ms/step - loss: 0.4288 - accuracy: 0.8203 - val_loss: 0.4245 - val_accuracy: 0.8205\n",
      "Epoch 74/100\n",
      "536/536 [==============================] - 3s 6ms/step - loss: 0.4341 - accuracy: 0.8168 - val_loss: 0.4242 - val_accuracy: 0.8213\n",
      "Epoch 75/100\n",
      "536/536 [==============================] - 3s 6ms/step - loss: 0.4308 - accuracy: 0.8227 - val_loss: 0.4242 - val_accuracy: 0.8209\n",
      "Epoch 76/100\n",
      "536/536 [==============================] - 3s 6ms/step - loss: 0.4284 - accuracy: 0.8222 - val_loss: 0.4237 - val_accuracy: 0.8220\n",
      "Epoch 77/100\n",
      "536/536 [==============================] - 3s 6ms/step - loss: 0.4303 - accuracy: 0.8181 - val_loss: 0.4237 - val_accuracy: 0.8213\n",
      "Epoch 78/100\n",
      "536/536 [==============================] - 3s 6ms/step - loss: 0.4304 - accuracy: 0.8199 - val_loss: 0.4242 - val_accuracy: 0.8201\n",
      "Epoch 79/100\n",
      "536/536 [==============================] - 3s 6ms/step - loss: 0.4269 - accuracy: 0.8222 - val_loss: 0.4236 - val_accuracy: 0.8209\n",
      "Epoch 80/100\n",
      "536/536 [==============================] - 3s 6ms/step - loss: 0.4289 - accuracy: 0.8203 - val_loss: 0.4235 - val_accuracy: 0.8209\n",
      "Epoch 81/100\n",
      "536/536 [==============================] - 3s 6ms/step - loss: 0.4309 - accuracy: 0.8220 - val_loss: 0.4231 - val_accuracy: 0.8217\n",
      "Epoch 82/100\n",
      "536/536 [==============================] - 3s 6ms/step - loss: 0.4299 - accuracy: 0.8224 - val_loss: 0.4228 - val_accuracy: 0.8220\n",
      "Epoch 83/100\n",
      "536/536 [==============================] - 3s 6ms/step - loss: 0.4304 - accuracy: 0.8214 - val_loss: 0.4227 - val_accuracy: 0.8228\n",
      "Epoch 84/100\n",
      "536/536 [==============================] - 3s 6ms/step - loss: 0.4319 - accuracy: 0.8209 - val_loss: 0.4231 - val_accuracy: 0.8209\n",
      "Epoch 85/100\n",
      "536/536 [==============================] - 3s 6ms/step - loss: 0.4296 - accuracy: 0.8199 - val_loss: 0.4220 - val_accuracy: 0.8243\n",
      "Epoch 86/100\n",
      "536/536 [==============================] - 4s 7ms/step - loss: 0.4341 - accuracy: 0.8203 - val_loss: 0.4222 - val_accuracy: 0.8236\n",
      "Epoch 87/100\n",
      "536/536 [==============================] - 3s 6ms/step - loss: 0.4360 - accuracy: 0.8205 - val_loss: 0.4230 - val_accuracy: 0.8220\n",
      "Epoch 88/100\n",
      "536/536 [==============================] - 4s 7ms/step - loss: 0.4256 - accuracy: 0.8233 - val_loss: 0.4220 - val_accuracy: 0.8243\n",
      "Epoch 89/100\n",
      "536/536 [==============================] - 4s 8ms/step - loss: 0.4257 - accuracy: 0.8224 - val_loss: 0.4210 - val_accuracy: 0.8251\n",
      "Epoch 90/100\n",
      "536/536 [==============================] - 4s 7ms/step - loss: 0.4338 - accuracy: 0.8168 - val_loss: 0.4226 - val_accuracy: 0.8220\n",
      "Epoch 91/100\n",
      "536/536 [==============================] - 4s 7ms/step - loss: 0.4298 - accuracy: 0.8224 - val_loss: 0.4224 - val_accuracy: 0.8220\n",
      "Epoch 92/100\n",
      "536/536 [==============================] - 3s 6ms/step - loss: 0.4314 - accuracy: 0.8210 - val_loss: 0.4220 - val_accuracy: 0.8228\n",
      "Epoch 93/100\n",
      "536/536 [==============================] - 3s 6ms/step - loss: 0.4320 - accuracy: 0.8192 - val_loss: 0.4218 - val_accuracy: 0.8236\n",
      "Epoch 94/100\n",
      "536/536 [==============================] - 3s 6ms/step - loss: 0.4306 - accuracy: 0.8244 - val_loss: 0.4216 - val_accuracy: 0.8243\n",
      "Epoch 95/100\n",
      "536/536 [==============================] - 3s 6ms/step - loss: 0.4247 - accuracy: 0.8240 - val_loss: 0.4208 - val_accuracy: 0.8258\n",
      "Epoch 96/100\n",
      "536/536 [==============================] - 3s 6ms/step - loss: 0.4272 - accuracy: 0.8261 - val_loss: 0.4205 - val_accuracy: 0.8258\n",
      "Epoch 97/100\n",
      "536/536 [==============================] - 3s 6ms/step - loss: 0.4229 - accuracy: 0.8244 - val_loss: 0.4203 - val_accuracy: 0.8251\n",
      "Epoch 98/100\n",
      "536/536 [==============================] - 3s 6ms/step - loss: 0.4280 - accuracy: 0.8237 - val_loss: 0.4200 - val_accuracy: 0.8258\n",
      "Epoch 99/100\n",
      "536/536 [==============================] - 3s 6ms/step - loss: 0.4257 - accuracy: 0.8209 - val_loss: 0.4208 - val_accuracy: 0.8247\n",
      "Epoch 100/100\n",
      "536/536 [==============================] - 3s 6ms/step - loss: 0.4268 - accuracy: 0.8229 - val_loss: 0.4204 - val_accuracy: 0.8258\n"
     ]
    }
   ],
   "source": [
    "# Fitting the ANN to the training set\n",
    "model_history=classifier.fit(X_train, y_train,validation_split=0.33, batch_size = 10, epochs = 100)"
   ]
  },
  {
   "cell_type": "code",
   "execution_count": 22,
   "metadata": {
    "id": "f4nyFcL1d88y"
   },
   "outputs": [
    {
     "name": "stdout",
     "output_type": "stream",
     "text": [
      "63/63 [==============================] - 1s 3ms/step\n"
     ]
    }
   ],
   "source": [
    "# Predicting the test set results\n",
    "y_pred = classifier.predict(X_test)\n",
    "y_pred = (y_pred >0.5)"
   ]
  },
  {
   "cell_type": "code",
   "execution_count": 23,
   "metadata": {
    "colab": {
     "base_uri": "https://localhost:8080/"
    },
    "id": "wgunGbRVfEuU",
    "outputId": "881c3a6c-91fe-4342-ab79-dc0bdb6956e6"
   },
   "outputs": [
    {
     "data": {
      "text/plain": [
       "array([[1583,   12],\n",
       "       [ 320,   85]], dtype=int64)"
      ]
     },
     "execution_count": 23,
     "metadata": {},
     "output_type": "execute_result"
    }
   ],
   "source": [
    "# Making the confusion Matrix\n",
    "from sklearn.metrics import confusion_matrix\n",
    "cm = confusion_matrix(y_test,y_pred)\n",
    "cm"
   ]
  },
  {
   "cell_type": "code",
   "execution_count": 24,
   "metadata": {
    "colab": {
     "base_uri": "https://localhost:8080/"
    },
    "id": "cJma915RfO6R",
    "outputId": "c52d74b2-ccb3-4a2e-efda-bc4cca957e89"
   },
   "outputs": [
    {
     "data": {
      "text/plain": [
       "0.834"
      ]
     },
     "execution_count": 24,
     "metadata": {},
     "output_type": "execute_result"
    }
   ],
   "source": [
    "# Calculating the Accuracy\n",
    "from sklearn.metrics import accuracy_score\n",
    "score = accuracy_score(y_pred,y_test)\n",
    "score"
   ]
  },
  {
   "cell_type": "code",
   "execution_count": 25,
   "metadata": {
    "colab": {
     "base_uri": "https://localhost:8080/"
    },
    "id": "UjBsXLwofYKV",
    "outputId": "42f19321-40ea-42b6-db00-a73252a6a3c9"
   },
   "outputs": [
    {
     "name": "stdout",
     "output_type": "stream",
     "text": [
      "dict_keys(['loss', 'accuracy', 'val_loss', 'val_accuracy'])\n"
     ]
    }
   ],
   "source": [
    "# List all Data in the history\n",
    "\n",
    "print(model_history.history.keys())"
   ]
  },
  {
   "cell_type": "code",
   "execution_count": 26,
   "metadata": {
    "colab": {
     "base_uri": "https://localhost:8080/",
     "height": 298
    },
    "id": "Mu7FulF8hfmP",
    "outputId": "25c5c95c-7a52-4aed-89e9-8ada977d1998"
   },
   "outputs": [
    {
     "data": {
      "image/png": "[encoded data removed]",
      "text/plain": [
       "<Figure size 640x480 with 1 Axes>"
      ]
     },
     "metadata": {},
     "output_type": "display_data"
    }
   ],
   "source": [
    "plt.plot(model_history.history['accuracy'])\n",
    "plt.plot(model_history.history['val_accuracy'])\n",
    "plt.title('model accuracy')\n",
    "plt.ylabel('accuracy')\n",
    "plt.xlabel('epoch')\n",
    "plt.legend(['train','test'], loc='upper left')\n",
    "plt.show()"
   ]
  },
  {
   "cell_type": "code",
   "execution_count": null,
   "metadata": {
    "id": "HsLpAjln9G9G"
   },
   "outputs": [],
   "source": []
  }
 ],
 "metadata": {
  "colab": {
   "name": "ANN Implementation",
   "provenance": []
  },
  "kernelspec": {
   "display_name": "Python 3 (ipykernel)",
   "language": "python",
   "name": "python3"
  },
  "language_info": {
   "codemirror_mode": {
    "name": "ipython",
    "version": 3
   },
   "file_extension": ".py",
   "mimetype": "text/x-python",
   "name": "python",
   "nbconvert_exporter": "python",
   "pygments_lexer": "ipython3",
   "version": "3.10.9"
  }
 },
 "nbformat": 4,
 "nbformat_minor": 1
}
